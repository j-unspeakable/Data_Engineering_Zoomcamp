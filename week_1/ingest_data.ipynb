{
 "cells": [
  {
   "cell_type": "code",
   "execution_count": null,
   "id": "8d7e4358",
   "metadata": {},
   "outputs": [],
   "source": [
    "# Import Libraries.\n",
    "import pandas as pd\n",
    "from time import time\n",
    "from sqlalchemy import create_engine"
   ]
  },
  {
   "cell_type": "code",
   "execution_count": null,
   "id": "285aa02e",
   "metadata": {},
   "outputs": [],
   "source": [
    "# Download Data.\n",
    "!wget https://github.com/DataTalksClub/nyc-tlc-data/releases/download/green/green_tripdata_2019-01.csv.gz"
   ]
  },
  {
   "cell_type": "code",
   "execution_count": null,
   "id": "a1d1f971",
   "metadata": {},
   "outputs": [],
   "source": [
    "# Read Data.\n",
    "df = pd.read_csv('./data/green_tripdata_2019-01.csv.gz')\n",
    "df.head()"
   ]
  },
  {
   "cell_type": "code",
   "execution_count": null,
   "id": "f9e76d7f",
   "metadata": {},
   "outputs": [],
   "source": [
    "# Format dtype.\n",
    "df.lpep_pickup_datetime = pd.to_datetime(df.lpep_pickup_datetime)\n",
    "df.lpep_dropoff_datetime = pd.to_datetime(df.lpep_dropoff_datetime)"
   ]
  },
  {
   "cell_type": "code",
   "execution_count": null,
   "id": "339a5c72",
   "metadata": {},
   "outputs": [],
   "source": [
    "# Create engine to connect to postgresql.\n",
    "engine = create_engine('postgresql://db:db@localhost:5432/nyc_taxi')"
   ]
  },
  {
   "cell_type": "code",
   "execution_count": null,
   "id": "791b0846",
   "metadata": {},
   "outputs": [],
   "source": [
    "print(pd.io.sql.get_schema(df, name='green_taxi_data', con=engine))"
   ]
  },
  {
   "cell_type": "code",
   "execution_count": null,
   "id": "b02e878e",
   "metadata": {},
   "outputs": [],
   "source": [
    "# Check number of rows.\n",
    "len(df)"
   ]
  },
  {
   "cell_type": "code",
   "execution_count": null,
   "id": "de7b9007",
   "metadata": {},
   "outputs": [],
   "source": [
    "# Read data into database in chunks.\n",
    "df_iter = pd.read_csv('./data/green_tripdata_2019-01.csv.gz', iterator=True, chunksize=100000)"
   ]
  },
  {
   "cell_type": "code",
   "execution_count": null,
   "id": "80ba9bc5",
   "metadata": {},
   "outputs": [],
   "source": [
    "# First Chunk.\n",
    "df = next(df_iter)"
   ]
  },
  {
   "cell_type": "code",
   "execution_count": null,
   "id": "8252c284",
   "metadata": {},
   "outputs": [],
   "source": [
    "# Read in the header into the database.\n",
    "df.head(n=0).to_sql(name='green_taxi_data', con=engine, if_exists='replace')"
   ]
  },
  {
   "cell_type": "code",
   "execution_count": null,
   "id": "98959ffe",
   "metadata": {},
   "outputs": [],
   "source": [
    "# Read in the first chunk into postgresql database.\n",
    "%time df.to_sql(name='green_taxi_data', con=engine, if_exists='append')"
   ]
  },
  {
   "cell_type": "code",
   "execution_count": null,
   "id": "09cd464a",
   "metadata": {},
   "outputs": [],
   "source": [
    "# Read in the other part of the data chunk by chunk into postgresql database.\n",
    "while True: \n",
    "    t_start = time()\n",
    "\n",
    "    df = next(df_iter)\n",
    "\n",
    "    df.lpep_pickup_datetime = pd.to_datetime(df.lpep_pickup_datetime)\n",
    "    df.lpep_dropoff_datetime = pd.to_datetime(df.lpep_dropoff_datetime)\n",
    "    \n",
    "    df.to_sql(name='green_taxi_data', con=engine, if_exists='append')\n",
    "\n",
    "    t_end = time()\n",
    "\n",
    "    print('inserted another chunk, took %.3f second' % (t_end - t_start))"
   ]
  },
  {
   "cell_type": "code",
   "execution_count": null,
   "id": "c2178a11",
   "metadata": {
    "scrolled": false
   },
   "outputs": [],
   "source": [
    "# Download Data.\n",
    "!wget https://s3.amazonaws.com/nyc-tlc/misc/taxi+_zone_lookup.csv"
   ]
  },
  {
   "cell_type": "code",
   "execution_count": null,
   "id": "bdefce25",
   "metadata": {},
   "outputs": [],
   "source": [
    "# Read Data.\n",
    "df_zones = pd.read_csv('./data/taxi+_zone_lookup.csv')\n",
    "df_zones.head()"
   ]
  },
  {
   "cell_type": "code",
   "execution_count": null,
   "id": "5134c2e2",
   "metadata": {},
   "outputs": [],
   "source": [
    "# Read in data into postgresql database.\n",
    "df_zones.to_sql(name='zones', con=engine, if_exists='replace')"
   ]
  }
 ],
 "metadata": {
  "kernelspec": {
   "display_name": "dezoomcamp",
   "language": "python",
   "name": "python3"
  },
  "language_info": {
   "codemirror_mode": {
    "name": "ipython",
    "version": 3
   },
   "file_extension": ".py",
   "mimetype": "text/x-python",
   "name": "python",
   "nbconvert_exporter": "python",
   "pygments_lexer": "ipython3",
   "version": "3.10.9"
  },
  "vscode": {
   "interpreter": {
    "hash": "e6ea0eaf48a582c7c54bb1711f58c419ea764a6e798d28bae56bbedb58dab102"
   }
  }
 },
 "nbformat": 4,
 "nbformat_minor": 5
}
